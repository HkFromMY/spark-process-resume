{
 "cells": [
  {
   "cell_type": "code",
   "execution_count": 1,
   "id": "6e594817-b6b5-4071-a112-067ba2280de9",
   "metadata": {},
   "outputs": [],
   "source": [
    "from pyspark.sql import SparkSession\n",
    "from pyspark.sql.types import *\n",
    "from pyspark.sql.functions import *\n",
    "import os\n",
    "\n",
    "os.environ['PYSPARK_DRIVER_PYTHON'] = 'jupyter'\n",
    "os.environ['PYSPARK_DRIVER_PYTHON_OPTS'] = 'lab'\n",
    "os.environ['PYSPARK_PYTHON'] = \"python\"\n",
    "\n",
    "# setting up spark\n",
    "spark = SparkSession \\\n",
    "    .builder \\\n",
    "    .appName(\"Pyspark Hilti\") \\\n",
    "    .config('spark.master', 'local[10]') \\\n",
    "    .config(\"spark.cores.max\", \"5\") \\\n",
    "    .config(\"spark.driver.memory\", \"15g\") \\\n",
    "    .getOrCreate()"
   ]
  },
  {
   "cell_type": "code",
   "execution_count": 2,
   "id": "a4637b04-ea8b-484b-bc9e-793d5cd1dc74",
   "metadata": {},
   "outputs": [
    {
     "data": {
      "text/html": [
       "\n",
       "            <div>\n",
       "                <p><b>SparkSession - in-memory</b></p>\n",
       "                \n",
       "        <div>\n",
       "            <p><b>SparkContext</b></p>\n",
       "\n",
       "            <p><a href=\"http://DESKTOP-43PVFUI.mshome.net:4040\">Spark UI</a></p>\n",
       "\n",
       "            <dl>\n",
       "              <dt>Version</dt>\n",
       "                <dd><code>v3.5.1</code></dd>\n",
       "              <dt>Master</dt>\n",
       "                <dd><code>local[10]</code></dd>\n",
       "              <dt>AppName</dt>\n",
       "                <dd><code>Pyspark Hilti</code></dd>\n",
       "            </dl>\n",
       "        </div>\n",
       "        \n",
       "            </div>\n",
       "        "
      ],
      "text/plain": [
       "<pyspark.sql.session.SparkSession at 0x1d2adb0b250>"
      ]
     },
     "execution_count": 2,
     "metadata": {},
     "output_type": "execute_result"
    }
   ],
   "source": [
    "spark"
   ]
  },
  {
   "cell_type": "code",
   "execution_count": 17,
   "id": "00c8c94d-04ed-491f-88ec-b37aed77b5c0",
   "metadata": {},
   "outputs": [],
   "source": [
    "### Pre-processing functions for resume_txt\n",
    "# NLTK toolkit\n",
    "from nltk.stem import WordNetLemmatizer\n",
    "from nltk.tokenize import word_tokenize\n",
    "from nltk.corpus import wordnet, stopwords\n",
    "from nltk import pos_tag\n",
    "\n",
    "# basic pre-processing utilities\n",
    "import os\n",
    "from lxml import etree\n",
    "import string\n",
    "import regex as re\n",
    "\n",
    "translate_table = dict((ord(char), None) for char in string.punctuation)\n",
    "\n",
    "def remove_html_tags(string):\n",
    "    parser = etree.HTMLParser()\n",
    "    tree = etree.fromstring(string, parser)\n",
    "    parsed_txt = etree.tostring(tree, encoding='unicode', method='text')\n",
    "    parsed_txt = \" \".join(parsed_txt.split())\n",
    "    \n",
    "    return parsed_txt\n",
    "\n",
    "def remove_punctuation(string):\n",
    "    return string.translate(translate_table)\n",
    "\n",
    "def remove_stopwords(tokens):\n",
    "    from nltk.corpus import stopwords\n",
    "    \"\"\"\n",
    "        Filters all stopwords and turn the words into lowercase\n",
    "    \"\"\"\n",
    "    stop_words = set(stopwords.words('english'))\n",
    "    filtered_sentence = [token.lower() for token in tokens if not token.lower() in stop_words]\n",
    "    \n",
    "    return filtered_sentence\n",
    "\n",
    "def remove_urls(tokens):\n",
    "    return [w for w in tokens if not w.startswith(\"http://\")]\n",
    "\n",
    "def tokenize_string(string):\n",
    "    from nltk.tokenize import word_tokenize\n",
    "    \n",
    "    return word_tokenize(string)\n",
    "\n",
    "def pos_tagging(tokens):\n",
    "    from nltk import pos_tag\n",
    "    \"\"\"\n",
    "        Receive: a list of string tokens\n",
    "        Detect the token's part of speech\n",
    "    \"\"\"\n",
    "\n",
    "    pos_tags = pos_tag(tokens)\n",
    "    return pos_tags\n",
    "\n",
    "def lemmatize_token(tokens):\n",
    "    from nltk.stem import WordNetLemmatizer\n",
    "    from nltk.corpus import wordnet\n",
    "    \n",
    "    \"\"\"\n",
    "        Tokenize the string\n",
    "        Lemmatize the string tokens \n",
    "        Return lemmatized string\n",
    "    \"\"\"\n",
    "    lemmatizer = WordNetLemmatizer()\n",
    "    lemmatized_tokens = []\n",
    "    pos_tokens = pos_tagging(tokens)\n",
    "\n",
    "    # convert POS tag into usable format of WordNet\n",
    "    for token, pos in pos_tokens:\n",
    "        pos = pos\n",
    "        if pos.startswith('J'):\n",
    "            pos = wordnet.ADJ\n",
    "\n",
    "        elif pos.startswith('V'):\n",
    "            pos = wordnet.VERB\n",
    "        \n",
    "        elif pos.startswith('N'):\n",
    "            pos = wordnet.NOUN\n",
    "\n",
    "        elif pos.startswith('R'):\n",
    "            pos = wordnet.ADV\n",
    "\n",
    "        else:\n",
    "            # append as it is if don't have POS tagged\n",
    "            lemmatized_tokens.append(token)\n",
    "            continue\n",
    "\n",
    "        lemmatized = lemmatizer.lemmatize(token, pos=pos)\n",
    "        lemmatized_tokens.append(lemmatized)\n",
    "\n",
    "    return lemmatized_tokens\n",
    "\n",
    "def preprocess(string):\n",
    "    text = remove_html_tags(string)\n",
    "    text = remove_punctuation(text)\n",
    "    \n",
    "    tokens = tokenize_string(text)\n",
    "    tokens = remove_urls(tokens)\n",
    "    tokens = remove_stopwords(tokens)\n",
    "    tokens = lemmatize_token(tokens)\n",
    "\n",
    "    return \" \".join(tokens)\n"
   ]
  },
  {
   "cell_type": "code",
   "execution_count": 5,
   "id": "5fc14a29-b686-4783-9120-edded917e4e9",
   "metadata": {},
   "outputs": [
    {
     "data": {
      "text/html": [
       "<div>\n",
       "<style scoped>\n",
       "    .dataframe tbody tr th:only-of-type {\n",
       "        vertical-align: middle;\n",
       "    }\n",
       "\n",
       "    .dataframe tbody tr th {\n",
       "        vertical-align: top;\n",
       "    }\n",
       "\n",
       "    .dataframe thead th {\n",
       "        text-align: right;\n",
       "    }\n",
       "</style>\n",
       "<table border=\"1\" class=\"dataframe\">\n",
       "  <thead>\n",
       "    <tr style=\"text-align: right;\">\n",
       "      <th></th>\n",
       "      <th>resume_txt</th>\n",
       "      <th>job_title</th>\n",
       "    </tr>\n",
       "  </thead>\n",
       "  <tbody>\n",
       "    <tr>\n",
       "      <th>0</th>\n",
       "      <td>Database Administrator &lt;span class=\"hl\"&gt;Databa...</td>\n",
       "      <td>Database_Administrator</td>\n",
       "    </tr>\n",
       "    <tr>\n",
       "      <th>1</th>\n",
       "      <td>Database Administrator &lt;span class=\"hl\"&gt;Databa...</td>\n",
       "      <td>Database_Administrator</td>\n",
       "    </tr>\n",
       "    <tr>\n",
       "      <th>2</th>\n",
       "      <td>Oracle Database Administrator Oracle &lt;span cla...</td>\n",
       "      <td>Database_Administrator</td>\n",
       "    </tr>\n",
       "    <tr>\n",
       "      <th>3</th>\n",
       "      <td>Amazon Redshift Administrator and ETL Develope...</td>\n",
       "      <td>Database_Administrator</td>\n",
       "    </tr>\n",
       "    <tr>\n",
       "      <th>4</th>\n",
       "      <td>Scrum Master Scrum Master Scrum Master Richmon...</td>\n",
       "      <td>Database_Administrator</td>\n",
       "    </tr>\n",
       "  </tbody>\n",
       "</table>\n",
       "</div>"
      ],
      "text/plain": [
       "                                          resume_txt               job_title\n",
       "0  Database Administrator <span class=\"hl\">Databa...  Database_Administrator\n",
       "1  Database Administrator <span class=\"hl\">Databa...  Database_Administrator\n",
       "2  Oracle Database Administrator Oracle <span cla...  Database_Administrator\n",
       "3  Amazon Redshift Administrator and ETL Develope...  Database_Administrator\n",
       "4  Scrum Master Scrum Master Scrum Master Richmon...  Database_Administrator"
      ]
     },
     "execution_count": 5,
     "metadata": {},
     "output_type": "execute_result"
    }
   ],
   "source": [
    "### Read file from raw txt files\n",
    "\n",
    "import pandas as pd\n",
    "\n",
    "# Read file from raw text files\n",
    "def read_file(identifier):\n",
    "    with open(f'data\\\\{identifier}.txt') as corpus_reader:\n",
    "        resume = corpus_reader.read()\n",
    "        \n",
    "    with open(f'data\\\\{identifier}.lab') as title_reader:\n",
    "        job_title = title_reader.read()\n",
    "        \n",
    "    return resume, job_title\n",
    "\n",
    "resume_corpus = []\n",
    "job_titles = []\n",
    "\n",
    "for i in range(1, 29783 + 1):\n",
    "    resume, job_title = read_file(f'{i:0>5}')\n",
    "    \n",
    "    resume_corpus.append(resume)\n",
    "    job_titles.append(job_title)\n",
    "    \n",
    "df = pd.DataFrame({ 'resume_txt': resume_corpus, 'job_title': job_titles })\n",
    "df.head(5)"
   ]
  },
  {
   "cell_type": "code",
   "execution_count": 6,
   "id": "2ce0f322-e30a-42a9-b072-061d2905637a",
   "metadata": {},
   "outputs": [
    {
     "name": "stderr",
     "output_type": "stream",
     "text": [
      "C:\\Users\\Usrer\\AppData\\Local\\Temp\\ipykernel_19932\\1446569580.py:10: FutureWarning: Downcasting behavior in `replace` is deprecated and will be removed in a future version. To retain the old behavior, explicitly call `result.infer_objects(copy=False)`. To opt-in to the future behavior, set `pd.set_option('future.no_silent_downcasting', True)`\n",
      "  df[encoded.columns] = df[encoded.columns].replace({ True: 1, False: 0 })\n"
     ]
    }
   ],
   "source": [
    "df['id'] = df.index + 1\n",
    "\n",
    "# expand the job_title column into multiple rows\n",
    "df['job_title'] = df['job_title'].str.split('\\n')\n",
    "df = df.explode('job_title')\n",
    "\n",
    "# one hot encode the results into the main df\n",
    "encoded = pd.get_dummies(df['job_title']).drop([''], axis=1)\n",
    "df[encoded.columns] = encoded\n",
    "df[encoded.columns] = df[encoded.columns].replace({ True: 1, False: 0 })\n",
    "\n",
    "# merge one hot encoded into the main dataframe\n",
    "main_df = df.groupby('id')[encoded.columns].max().reset_index().copy(deep=True)\n",
    "\n",
    "# drop all duplicates of original duplicates after exploding method\n",
    "df1 = df[['id', 'resume_txt']].drop_duplicates()\n",
    "\n",
    "# merge 2 dataframes \n",
    "main_df = pd.merge(main_df, df1, how='left', on='id')\n",
    "main_df = main_df.drop(['id'], axis=1) # no need for id anymore"
   ]
  },
  {
   "cell_type": "code",
   "execution_count": 29,
   "id": "af0b8afb-5632-4925-a4a7-a38cb32c3205",
   "metadata": {},
   "outputs": [
    {
     "data": {
      "text/html": [
       "<div>\n",
       "<style scoped>\n",
       "    .dataframe tbody tr th:only-of-type {\n",
       "        vertical-align: middle;\n",
       "    }\n",
       "\n",
       "    .dataframe tbody tr th {\n",
       "        vertical-align: top;\n",
       "    }\n",
       "\n",
       "    .dataframe thead th {\n",
       "        text-align: right;\n",
       "    }\n",
       "</style>\n",
       "<table border=\"1\" class=\"dataframe\">\n",
       "  <thead>\n",
       "    <tr style=\"text-align: right;\">\n",
       "      <th></th>\n",
       "      <th>Database_Administrator</th>\n",
       "      <th>Front_End_Developer</th>\n",
       "      <th>Java_Developer</th>\n",
       "      <th>Network_Administrator</th>\n",
       "      <th>Project_manager</th>\n",
       "      <th>Python_Developer</th>\n",
       "      <th>Security_Analyst</th>\n",
       "      <th>Software_Developer</th>\n",
       "      <th>Systems_Administrator</th>\n",
       "      <th>Web_Developer</th>\n",
       "      <th>resume_txt</th>\n",
       "    </tr>\n",
       "  </thead>\n",
       "  <tbody>\n",
       "    <tr>\n",
       "      <th>0</th>\n",
       "      <td>1</td>\n",
       "      <td>0</td>\n",
       "      <td>0</td>\n",
       "      <td>0</td>\n",
       "      <td>0</td>\n",
       "      <td>0</td>\n",
       "      <td>0</td>\n",
       "      <td>0</td>\n",
       "      <td>0</td>\n",
       "      <td>0</td>\n",
       "      <td>Database Administrator &lt;span class=\"hl\"&gt;Databa...</td>\n",
       "    </tr>\n",
       "    <tr>\n",
       "      <th>1</th>\n",
       "      <td>1</td>\n",
       "      <td>0</td>\n",
       "      <td>0</td>\n",
       "      <td>0</td>\n",
       "      <td>0</td>\n",
       "      <td>0</td>\n",
       "      <td>0</td>\n",
       "      <td>0</td>\n",
       "      <td>0</td>\n",
       "      <td>0</td>\n",
       "      <td>Database Administrator &lt;span class=\"hl\"&gt;Databa...</td>\n",
       "    </tr>\n",
       "    <tr>\n",
       "      <th>2</th>\n",
       "      <td>1</td>\n",
       "      <td>0</td>\n",
       "      <td>0</td>\n",
       "      <td>0</td>\n",
       "      <td>0</td>\n",
       "      <td>0</td>\n",
       "      <td>0</td>\n",
       "      <td>0</td>\n",
       "      <td>0</td>\n",
       "      <td>0</td>\n",
       "      <td>Oracle Database Administrator Oracle &lt;span cla...</td>\n",
       "    </tr>\n",
       "    <tr>\n",
       "      <th>3</th>\n",
       "      <td>1</td>\n",
       "      <td>0</td>\n",
       "      <td>0</td>\n",
       "      <td>0</td>\n",
       "      <td>0</td>\n",
       "      <td>0</td>\n",
       "      <td>0</td>\n",
       "      <td>0</td>\n",
       "      <td>0</td>\n",
       "      <td>0</td>\n",
       "      <td>Amazon Redshift Administrator and ETL Develope...</td>\n",
       "    </tr>\n",
       "    <tr>\n",
       "      <th>4</th>\n",
       "      <td>1</td>\n",
       "      <td>0</td>\n",
       "      <td>0</td>\n",
       "      <td>0</td>\n",
       "      <td>0</td>\n",
       "      <td>0</td>\n",
       "      <td>0</td>\n",
       "      <td>0</td>\n",
       "      <td>0</td>\n",
       "      <td>0</td>\n",
       "      <td>Scrum Master Scrum Master Scrum Master Richmon...</td>\n",
       "    </tr>\n",
       "  </tbody>\n",
       "</table>\n",
       "</div>"
      ],
      "text/plain": [
       "   Database_Administrator  Front_End_Developer  Java_Developer  \\\n",
       "0                       1                    0               0   \n",
       "1                       1                    0               0   \n",
       "2                       1                    0               0   \n",
       "3                       1                    0               0   \n",
       "4                       1                    0               0   \n",
       "\n",
       "   Network_Administrator  Project_manager  Python_Developer  Security_Analyst  \\\n",
       "0                      0                0                 0                 0   \n",
       "1                      0                0                 0                 0   \n",
       "2                      0                0                 0                 0   \n",
       "3                      0                0                 0                 0   \n",
       "4                      0                0                 0                 0   \n",
       "\n",
       "   Software_Developer  Systems_Administrator  Web_Developer  \\\n",
       "0                   0                      0              0   \n",
       "1                   0                      0              0   \n",
       "2                   0                      0              0   \n",
       "3                   0                      0              0   \n",
       "4                   0                      0              0   \n",
       "\n",
       "                                          resume_txt  \n",
       "0  Database Administrator <span class=\"hl\">Databa...  \n",
       "1  Database Administrator <span class=\"hl\">Databa...  \n",
       "2  Oracle Database Administrator Oracle <span cla...  \n",
       "3  Amazon Redshift Administrator and ETL Develope...  \n",
       "4  Scrum Master Scrum Master Scrum Master Richmon...  "
      ]
     },
     "execution_count": 29,
     "metadata": {},
     "output_type": "execute_result"
    }
   ],
   "source": [
    "main_df.head(5)"
   ]
  },
  {
   "cell_type": "code",
   "execution_count": 18,
   "id": "1847ddf1-a92b-49aa-9efa-52014753591f",
   "metadata": {},
   "outputs": [
    {
     "name": "stdout",
     "output_type": "stream",
     "text": [
      "root\n",
      " |-- Database_Administrator: long (nullable = true)\n",
      " |-- Front_End_Developer: long (nullable = true)\n",
      " |-- Java_Developer: long (nullable = true)\n",
      " |-- Network_Administrator: long (nullable = true)\n",
      " |-- Project_manager: long (nullable = true)\n",
      " |-- Python_Developer: long (nullable = true)\n",
      " |-- Security_Analyst: long (nullable = true)\n",
      " |-- Software_Developer: long (nullable = true)\n",
      " |-- Systems_Administrator: long (nullable = true)\n",
      " |-- Web_Developer: long (nullable = true)\n",
      " |-- resume_txt: string (nullable = true)\n",
      "\n"
     ]
    }
   ],
   "source": [
    "df = spark.createDataFrame(main_df)\n",
    "df.printSchema()"
   ]
  },
  {
   "cell_type": "code",
   "execution_count": 19,
   "id": "962af927-8233-4d18-ab21-0a2b277f3443",
   "metadata": {},
   "outputs": [],
   "source": [
    "# reference: https://stackoverflow.com/questions/33768967/spark-how-can-evenly-distribute-my-records-in-all-partition\n",
    "\n",
    "N = 128 # number of partitions\n",
    "\n",
    "evenly_partitioned = (\n",
    "    df.rdd\n",
    "        .zipWithIndex()\n",
    "        .map(lambda p: (p[1], p[0]))\n",
    "        .partitionBy(N, lambda p: p)\n",
    "        .values()\n",
    ")"
   ]
  },
  {
   "cell_type": "code",
   "execution_count": 20,
   "id": "07ecc9f9-294c-45d2-b6f2-ffdc935ca3c6",
   "metadata": {},
   "outputs": [],
   "source": [
    "# convert to Dataframe object\n",
    "df = evenly_partitioned.toDF(main_df.columns.tolist())"
   ]
  },
  {
   "cell_type": "code",
   "execution_count": 21,
   "id": "1f6c2d55-7a09-442f-a9c5-73569fadca12",
   "metadata": {},
   "outputs": [
    {
     "name": "stdout",
     "output_type": "stream",
     "text": [
      "+----------------------+-------------------+--------------+---------------------+---------------+----------------+----------------+------------------+---------------------+-------------+--------------------+\n",
      "|Database_Administrator|Front_End_Developer|Java_Developer|Network_Administrator|Project_manager|Python_Developer|Security_Analyst|Software_Developer|Systems_Administrator|Web_Developer|          resume_txt|\n",
      "+----------------------+-------------------+--------------+---------------------+---------------+----------------+----------------+------------------+---------------------+-------------+--------------------+\n",
      "|                     1|                  0|             0|                    0|              0|               0|               0|                 0|                    0|            0|Database Administ...|\n",
      "|                     1|                  0|             0|                    0|              0|               0|               0|                 0|                    0|            0|Database Administ...|\n",
      "|                     1|                  0|             0|                    0|              0|               0|               0|                 0|                    0|            0|Sr. Oracle Databa...|\n",
      "|                     1|                  0|             0|                    0|              0|               0|               0|                 0|                    0|            0|Sales/Merchandisi...|\n",
      "|                     1|                  0|             0|                    0|              0|               0|               0|                 0|                    0|            0|Environmental Pro...|\n",
      "+----------------------+-------------------+--------------+---------------------+---------------+----------------+----------------+------------------+---------------------+-------------+--------------------+\n",
      "only showing top 5 rows\n",
      "\n"
     ]
    }
   ],
   "source": [
    "df.show(5)"
   ]
  },
  {
   "cell_type": "code",
   "execution_count": 22,
   "id": "6c7e6aec-0c0c-417e-b28a-ed8e466daa8e",
   "metadata": {},
   "outputs": [
    {
     "name": "stdout",
     "output_type": "stream",
     "text": [
      "+-----------+-----+\n",
      "|partitionId|count|\n",
      "+-----------+-----+\n",
      "|          0|  233|\n",
      "|          1|  233|\n",
      "|          2|  233|\n",
      "|          3|  233|\n",
      "|          4|  233|\n",
      "|          5|  233|\n",
      "|          6|  233|\n",
      "|          7|  233|\n",
      "|          8|  233|\n",
      "|          9|  233|\n",
      "|         10|  233|\n",
      "|         11|  233|\n",
      "|         12|  233|\n",
      "|         13|  233|\n",
      "|         14|  233|\n",
      "|         15|  233|\n",
      "|         16|  233|\n",
      "|         17|  233|\n",
      "|         18|  233|\n",
      "|         19|  233|\n",
      "+-----------+-----+\n",
      "only showing top 20 rows\n",
      "\n"
     ]
    }
   ],
   "source": [
    "# check number of records in each partition\n",
    "df.withColumn(\"partitionId\", spark_partition_id() \n",
    "                      ).groupBy(\"partitionId\").count().show() "
   ]
  },
  {
   "cell_type": "code",
   "execution_count": 23,
   "id": "7313acab-fea7-4c12-8d0d-9401e8e27733",
   "metadata": {},
   "outputs": [
    {
     "data": {
      "text/plain": [
       "[Row(resume_txt='Database Administrator <span class=\"hl\">Database</span> <span class=\"hl\">Administrator</span> Database Administrator - Family Private Care LLC Lawrenceville, GA A self-motivated Production SQL Server Database Administrator who possesses\\xa0 strong analytical and problem solving skills. My experience includes SQL Server\\xa0 2005, 2008 and 2012, 2014, SSIS, as well as clustering, mirroring, and high\\xa0 availability solutions in OLTP environments. I am proficient in database backup,\\xa0 recovery, performance tuning, maintenance tasks, security, and consolidation.\\xa0 I am confident that I would make a beneficial addition to any company. Over the\\xa0 course of my career thus far, I have designed databases to fit a variety of needs,\\xa0 successfully ensured the security of those databases, problem-solved in order to meet\\xa0 both back-end and front-end needs, installed and tested new versions database\\xa0 management systems, customized and installed applications and meticulously\\xa0 monitored performance for the smoothest front-end experience possible. During my\\xa0 5 to 6 years working with databases. Work Experience Database Administrator Family Private Care LLC - Roswell, GA April 2017 to Present Confirm that backups have been made and successfully saved to a secure\\xa0 location\\xa0 Planning for backup and recovery of database information.\\xa0 Maintaining archived data Backing up and restoring databases, Contacting\\xa0 database vendor for technical support Generating various reports by querying from database as per needed.\\xa0 Managing and monitoring data replication. Acting as liaison with users High\\xa0 Availability or Disaster Recovery Logs - Check your high availability and/or disaster recovery process logs. Depending on the solution (Log Shipping,\\xa0 Clustering, Replication, Database Mirroring, CDP, etc.) that you are using\\xa0 dictates what needs to be checked. Correcting errors and make necessary\\xa0 modification\\xa0 Modify existing databases and database management systems or direct\\xa0 programmers and analysts to make changes.\\xa0 Work as part of a project team to coordinate database development and see\\xa0 termite project scope and limitations\\xa0 Train Users and answers questions.\\xa0 Approve, schedule, plan, and supervise the installation and testing of new\\xa0 products and improvements to computer systems, such as the installation of new databases.\\xa0 Review Procedures in Database management system manuals for making\\xa0 changes to database.\\xa0 Select and enter codes to monitor database performance and to create\\xa0 production database.\\xa0 Check the backup failure alerts, correct the errors and rerun the backups.\\xa0 Review the average duration of backup, any significant changes occurred\\xa0 investigates on this.\\xa0 Most of the time it happens due to networking low bandwidth Validate the backup files using restore verify only.\\xa0 I create jobs to take care of the task and to send a notification if it fails to verify\\xa0 any backup.\\xa0 Monitoring all backup and log history is cleaning when designed. Find out the newly added databases and define the backup plan. I do verify the free space on\\xa0 each drive on all servers, If there is significant variance in free space from the day before, research the cause of the free space fluctuation and resolve if\\xa0 necessary, Often times, log files will grow because of monthly jobs automate through a job. The job runs for every one hour and reports any drive which is\\xa0 having less than 15 % of free space.\\xa0 I can design a SSRS report to showcase and review the delta values.\\xa0 Confirm all servers/databases are up and running fine. Usually in an Enterprise\\xa0 Database Environment Third Party Tools are used to monitor Servers. For\\xa0 database monitoring, I can design a native SQL Server solution using T-SQL\\xa0 code and a maintenance plan, it run min by min and send an email to DBA\\xa0 team if it is not able to connect to any of the database in the instance. I do design a native scripts using T-SQL to monitor Replication, Mirroring, Log\\xa0 shipping. Database Administrator Incomm Alpharetta - Alpharetta, GA January 2014 to February 2017 * Responsible for administering and maintaining over 150 database servers of Production and Test environment.\\xa0 * Analyzes the current database environment to determine recommended database\\xa0 maintenance, security, and Microsoft SQL Server best practices.\\xa0 * Monitors and troubleshoots production environments using Idera SQLdm.\\xa0 * Creates and maintains documentation for DBA standard operating procedures.\\xa0 * Ensures that all code changes made in the production environment are SOX\\xa0 compliance before they are deployed.\\xa0 * Analyses and migrates data using ETL into SQL Server databases to support\\xa0 customer\\'s implementation.\\xa0 * Works closely with infrastructure team for patching and hardware upgrades, and ensures that both production and test servers are up to date by applying Windows\\xa0 and SQL Server patches.\\xa0 * Upgrades servers as required from SQL Server 2005 to SQL Server 2008, 2012., and 2014.\\xa0 * Completes database administration maintenance projects as required * Provides\\xa0 24/7 on call support as needed.\\xa0 * Coordinates and configures new nodes for production server clusters for high\\xa0 availability.\\xa0 * Periodically restores backup files in test environment to check for corruption.\\xa0 * Reviews security, performance, and disk space and recommend corrective actions\\xa0 where needed.\\xa0 * Assists application team in the creation of databases, construction of queries, modification of database tables, and troubleshooting data issues.\\xa0 * Monitors servers for resources utilization (disk space, memory, CPU, etc.)\\xa0 * Creates and Executes a migration/decommission plan for over 500 databases within a 4 month project window. Education Bachelor of Science Lead City University July 2013 Skills Database administration, Database, Ms sql server, Ms sql server 2005, Sql server, Sql server 2005, Sql server 2008, Sql server 2008 r2, Sql server 2012, Sql, Sql queries, Stored procedures, Clustering, Backups, T-sql, Virtualization, R2, Maintenance, Problem solving, Shipping Additional Information SKILLS\\xa0 Installation and Building Server Running Backups Recovering and\\xa0 Restoring Models\\xa0 Support various MS SQL Server MS SQL Server 2005/2008\\xa0 environments from SQL Server /2008R2R2/2012/2014\\xa0 2005 thru SQL Server 2008r2 as administration including\\xa0 well as with SQL Server 2012 on installation, configuration,\\xa0 Windows Server 2003, 2003r2, upgrades, capacity planning,\\xa0 2008, 2008r2, 2012 and 2014. performance tuning, backup and\\xa0 recovery.\\xa0 Familiar with virtualization and Work with developers to Identify,\\xa0 managing SQL databases in a debug, and tune problem stored\\xa0 virtual environment. procedures, T-SQL Queries, etc.\\xa0 Management of users including Knowledge of High Availability of\\xa0 creation/alteration, grant of database servers using Database\\xa0 system/DB roles and permissions mirroring, replications, Log\\xa0 on various database objects. Shipping and Always On\\xa0 Availability Group.\\xa0 Design and implement SQL Server 201, databases for mission-critical\\xa0 2005, SQL Server 2008 R2, business.\\xa0 Experience in creating tables, Environment transition planning\\xa0 views, indexes, stored procedures (development, test, stage,\\xa0 and more. production).\\xa0 Import and export data to and from Perform routine backup and\\xa0 the database servers. recovery testing and documenting\\xa0 recovery scenarios.\\xa0 Database administration including Use SQL Profiler for\\xa0 installation, configuration, troubleshooting, monitoring, and\\xa0 upgrades, capacity planning, optimization of SQL Server and\\xa0 performance tuning, backup and SQL code.\\xa0 recovery, index maintenance.\\xa0 Modify stored procedures, queries, Manage the production and\\xa0 views, indexes, and functions to development databases including\\xa0 handle business rules, history data performance tuning, capacity\\xa0 and audit analysis. planning, SQL Server clustering,\\xa0 database security configuration,\\xa0 and database continuity.\\xa0 Excellent analytical, Strong decision making and\\xa0 communication skills, work ethics problem solving skills.\\xa0 and ability to work in a team\\xa0 environment with strong\\xa0 determination and commitment to\\xa0 the deliverables.\\xa0 Highly motivated self-starter with\\xa0 the ability to work independently.')]"
      ]
     },
     "execution_count": 23,
     "metadata": {},
     "output_type": "execute_result"
    }
   ],
   "source": [
    "df.select('resume_txt').take(1)"
   ]
  },
  {
   "cell_type": "code",
   "execution_count": 24,
   "id": "76824b50-1360-4da1-a7fd-adef63f92259",
   "metadata": {},
   "outputs": [],
   "source": [
    "# plan the preprocessing pipeline\n",
    "preprocessed_df = df.withColumn('resume_txt', udf(preprocess, StringType())(col('resume_txt')))\n",
    "preprocessed_df = preprocessed_df.withColumn('resume_txt', regexp_replace('resume_txt', '([R|r]2)|(\\\\xa0 \\*?)|(•)', ''))\n",
    "\n",
    "# execute the plan\n",
    "preprocessed_df = spark.createDataFrame(preprocessed_df.collect())"
   ]
  },
  {
   "cell_type": "code",
   "execution_count": 25,
   "id": "605da51c-673d-4356-8952-85935ce24b20",
   "metadata": {},
   "outputs": [
    {
     "data": {
      "text/plain": [
       "[Row(resume_txt='database administrator database administrator database administrator family private care llc lawrenceville ga selfmotivated production sql server database administrator possess strong analytical problem solve skill experience include sql server 2005 2008 2012 2014 ssis well cluster mirror high availability solution oltp environment proficient database backup recovery performance tune maintenance task security consolidation confident would make beneficial addition company course career thus far design database fit variety need successfully ensure security databases problemsolved order meet backend frontend need instal test new version database management system customize installed application meticulously monitor performance smooth frontend experience possible 5 6 year work database work experience database administrator family private care llc roswell ga april 2017 present confirm backup make successfully saved secure location plan backup recovery database information maintain archive data back restore database contact database vendor technical support generate various report query database per need managing monitoring data replication act liaison user high availability disaster recovery logs check high availability andor disaster recovery process log depend solution log ship cluster replication database mirror cdp etc use dictate need check correcting error make necessary modification modify exist database database management system direct programmer analyst make change work part project team coordinate database development see termite project scope limitation train user answer question approve schedule plan supervise installation test new product improvements computer system installation new database review procedure database management system manual make change database select enter code monitor database performance create production database check backup failure alert correct error rerun backup review average duration backup significant change occur investigates time happen due network low bandwidth validate backup file use restore verify create job take care task send notification fails verify backup monitoring backup log history cleaning design find newly add database define backup plan verify free space drive server significant variance free space day research cause free space fluctuation resolve necessary often time log file grow monthly job automate job job run every one hour report drive less 15 free space design ssrs report showcase review delta value confirm serversdatabases run fine usually enterprise database environment third party tool use monitor server database monitor design native sql server solution use tsql code maintenance plan run min min send email dba team able connect database instance design native script use tsql monitor replication mirror log ship database administrator incomm alpharetta alpharetta ga january 2014 february 2017 responsible administer maintain 150 database server production test environment analyze current database environment determine recommend database maintenance security microsoft sql server best practice monitor troubleshoot production environment use idera sqldm create maintains documentation dba standard operating procedure ensure code change make production environment sox compliance deploy analyse migrates data use etl sql server databases support customer implementation work closely infrastructure team patch hardware upgrades ensure production test server date apply window sql server patch upgrades server require sql server 2005 sql server 2008 2012 2014 completes database administration maintenance project require provide 247 call support need coordinate configure new node production server cluster high availability periodically restore backup file test environment check corruption review security performance disk space recommend corrective action need assist application team creation databases construction query modification database table troubleshoot data issue monitor server resource utilization disk space memory cpu etc create executes migrationdecommission plan 500 database within 4 month project window education bachelor science lead city university july 2013 skill database administration database ms sql server m sql server 2005 sql server sql server 2005 sql server 2008 sql server 2008  sql server 2012 sql sql query store procedure cluster backup tsql virtualization  maintenance problem solve ship additional information skill installation building server run backup recover restore model support various m sql server ms sql server 20052008 environment sql server 200820122014 2005 thru sql server 2008 administration include well sql server 2012 installation configuration windows server 2003 2003 upgrade capacity planning 2008 2008 2012 2014 performance tune backup recovery familiar virtualization work developer identify manage sql database debug tune problem store virtual environment procedure tsql query etc management user include knowledge high availability creationalteration grant database server use database systemdb role permission mirror replication log various database object ship always availability group design implement sql server 201 database missioncritical 2005 sql server 2008  business experience create table environment transition plan view index store procedure development test stage production import export data perform routine backup database server recovery test document recovery scenario database administration include use sql profiler installation configuration troubleshoot monitoring upgrade capacity plan optimization sql server performance tune backup sql code recovery index maintenance modify store procedure query manage production view index function development databases include handle business rule history data performance tuning capacity audit analysis planning sql server cluster database security configuration database continuity excellent analytical strong decision make communication skill work ethic problem solve skill ability work team environment strong determination commitment deliverables highly motivated selfstarter ability work independently'),\n",
       " Row(resume_txt='database administrator database administrator database administrator verizon wireless riverview fl authorize work us employer work experience database administrator verizon wireless temple terrace fl march 2017 present responsibility  work environment comprise 200 database large database size 5 tb  perform frequent refreshingcloning production database development test database use datapump rman duplicate database  database monitoringmaintenance replication process performance tune do use oem oracle enterprise manager foglight  automate process like move file manage alert log efficient backup develop unix script  oncall 24x7 production dba support applicationdevelopment dba system administrator  complete data mining goldengate integrate replication application schema  installedconfigured maintain goldengate data center migration  use goldengate replicate data source target order eliminate overhead source database  replicate data definition languageddl use goldengate dynamic inhouse develop database application hence eliminate need importexport  achieve realtimeno realtime data replication use goldengate instal downstream system  maintain od downstream database use goldengate intergrated replication methodology  schedule tune backup automate refreshes stats job use uc4 crontab  capacity planning table index table space databases allow growth potential  reconcile functional technical problem interaction client research identify defined issue fully test confirm possible solution problem  create database object tablespaces application user database schemas profile grant privilege role create database link  extensively worked complete incomplete recovery databases include point time recovery pitr tablespace point time recovery tspitr use rman utility  involve performingupgrades oracle 11g oracle 12cdatabases  apply psu patch 10203 10204 part maintenance activity  extensively use datapump conventional exportimport utility load data database logical backup migration databases  fix various database performance issue use automate workload repository awr automatic database diagnostics monitor addm active session history ash  achieve optimal performance tune use explain plan statspack sql trace tkprof utility  installation configuration maintenance physical standby use oracledata guard disaster recovery process oracle 11g 10g  extensively use awr addm explain plan periodic performance tune  implement proactive monitoring use tune pack diagnostics pack statspack sql trace tkprof explain plan environment oracle 11204 12102 rhel 55 sun solaris 100 exadata asm peoplesoft sql developer rman oem12c 13c datapump awr addm ash toad foglight service uc4 rac windows 12 goldendate 123014 database administrator walgreens deerfield il january 2016 march 2017 responsibility  installation oracle 11g database production development test environment depend project requirement  collaborate unix system administrator configure software hardware requirement function oracle database  refresh developmenttest database production use exportimport rman backup  make structural change databases size database object effective space management optimal performance  manage database security  create assign appropriate role privilege user depend user activity  defragmentation table index improve performance effective space management  touchpoint call offshore team make sure issue happen business hour address sense urgency  define database design infrastructure standard conjunction server configuration  monitor troubleshoot gap source target database configure goldengate  successfully upgrade database 11g non cdb 12c  create oracle wallet implement tablespace level tde security  manage database maintenanceactivities achieve optimum database uptime  configuration listener tnsnames  create database link two database access table data one local database remote database use distributed database feature  plan database backup operate system fullpartial backup exportimport use various type backup uc4 client design backup methodology organization  perform oracle dba responsibility performance tune monitoring tablespaces monitor user etc well much problem solve  design logical physical database business transaction functionality  provide production support deploy project till stabilize  create maintain data model  write sql script create database object like table view sequence  create procedure function use plsql  preparation high level low level design document environment oracle 11g10g9i linux solaris sql developer plsql shell script bourne oem statspack rman awr addm datapump database administrator unite parcel service chicago il october 2014 december 2015 responsibility  work environment comprise 200 database large database size 5 tb  perform periodic refreshingcloning production database development test database use rman duplicate database  extensively work complete incomplete recovery databases include point time recovery pitr tablespace point time recovery tspitr use rman utility  involve perform upgradation oracle 9i 10g oracle 11203 rac database  apply psu patch 10203 10204 part maintenance activity  extensively use datapump conventional exportimport utility load data database logical backup migration databases  fix various database performance issue use automate workload repository awr automatic database diagnostics monitor addm active session history ash  achieve optimal performance tune use explain plan statspack sql trace tkprof utility  schedule performance job backups environment stats job refreshes alert uc4 client  ensure sound database definition structure documentation  create clone database prod dev uat qa  present analyze database performance report improvement recommendation client company senior executive  installation configuration maintenance physical standby use oracledata guard disaster recovery process oracle 11g 10g  extensively use awr addm explain plan periodic performance tune  implement proactive monitoring use tune pack diagnostics pack statspack sql trace tkprof explain plan  database monitoringmaintenance replication process performance tune do use oem oracle enterprise manager  automate process like move file manage alert log efficient backup develop unix script  capacity planning table index table space databases allow growth potential  work application developer address clarify data requirement resolve technical functional issue  enforced corporate business rule adequate userresourceobject management  reconcile functional technical problem interaction client research identify defined issue fully test confirm possible solution problem  create database object tablespaces application user database schemas profile grant privilege role create database link environment oracle 11203 10205 rhel 55 sun solaris 100 datagaurd rac rman oem datapump awr addm ash toad 110 education associate bsc political science public administration university buea skill sql sql server linux dba oracle database rman oracle dba sql dba sql database rac sybase certificationslicenses oca present additional information skill summary  4 year strong experience oracle database administration heterogeneous system environment include solaris unix window support variety mission critical application oracle 10g 11g 12c  perform complete incomplete recovery disaster failure user error  configure user creation role privilege profile control access database object  strong skill apply security patch patch set critical patch update cpu patch set update psu oneoff patch use runinstaller perl base utility opatch well database upgrade  work closely develop team data model datababase design  instal maintain real application cluster rac  extensive experience database production support  database backup concept option usermanaged backup rmanmanaged backup without catalog operate system backup cold hot backup full backup incremental cumulative backup implement backup recovery strategy  deploy standby database use data guard 11g maximum performance  experience oncall 24x7 production dba support applicationdevelopment dba system administrator  monitor physical io proper size rollback segment  optimize sql use explain plan auto trace feature tkprof analyze execution plan tune statement  tune database use utlstat script statspack dynamic performance view monitor system statistic wait event awr addm tune sga  proven technical knowledge infrastructure management network system combine outstanding leadership ability creative problem solve skill strategic tactical area well excellent communication documentation skill strong aptitude analyze resolve problem  responsible rman backups improvement backup incremental back add block change track feature oracle 11g  create user role profile privilege management rolebased security  perform database tune use explain plan tkprof statspack automatic workload repository awr active session history ash automatic database diagnostic monitor addm sql trace  maintain schedule cold backup hot backup export dump maintain backup archive log automate clean archive log deploy rman automate backup maintain script recovery catalog  data transfer exportimport utility data pump sql loader technical summary database oracle 10g11g12c operate system hpux 10x 11x sun solaris 25 26 8 9 10 aix 51 52 53 61 rhel 21 3x 4x 5xlinux enterprise server 9 10 window 9598nt2000 tuning tool tkprof explain plan statspack awr addm language sql plsql unix shell script perl utility rman oem sqlloader exp imp data pump toad oracle sql developer spotlight sonar g guardium uc4 winscp jira goldengate 123014 oem 12c oem13c'),\n",
       " Row(resume_txt='sr oracle database administrator sr oracle database administrator sr oracle database administrator east windsor ct 7 year experience oracle database administrator enterprise level database administration management operation extensive experience instal design manage oracle 12c exadata 11g rac10g rac9i8i databases windows unix hpux ibm aix sun solaris installedconfigured oracle 11g10g real application cluster rac upgraded database oracle 8i 9i 10g oracle 10g 11g experience 247 production database support role extensive experience backup recovery hot cold logical rman incremental backup expert performance monitoring tune oracle database unixlinux platform use database tune sql trace tkprof explain plan statspack awr addm experience table index partition increase performance well storage management partition strategy large table partition large object improve query performance manageability identify bottleneck wait base analysis use oracle wait interface excellent experience database crossplatform migration expert installation configuration maintenance oracle standby active data guard monitoring databases set alert use oracle enterprise managergrid control experience database cloningrefresh tune patch good experience database design conceptual design logical database design physical database design set complete database security implementation troubleshoot oracle issue experience write shell script experience capacity planning benchmarking excellent sql plsql program debug skill cursor function store procedure package trigger etc experience data model logical physical database design excellent experience manage large database vldb experience replication use materialize view oracle stream golden gate expertise maintain database security use audit expertise load data flat file use external table sqlloader proven ability adapt demand schedule change priority excellent analytical interpersonal communication skill able work independently collaboratively team environment work experience sr oracle database administrator mcgraw hill east windsor nj february 2014 march 2015 responsibilities 24 x 7 production database administration support monitor ensure proactive problem recognition resolution database issue installation configuration maintenance oracle 12c 11g rac10g rac standby database service guard high availability disaster recovery database upgrades oracle 11g 12c 10g 11g database migration windows linux work emc migrate sannas storage set configure maintained oracle data guard primary standby databases ensure disaster recovery high availability data protection work migrate vldb 20tb size manage user privilege profile schemas use grid control oracle enterprise manager oem participate analysis design oracle exadata server infrastructure related project conduct analysis feasibility study development oracle exadata solution setup grid control monitoring exadata x2 instal oracle 11g exadata x2 provide performance tune optimization clone database use script well rman set backup recovery procedure use rman setup autosys job instal implement backup recovery procedure implement hot cold logical backup plan create duplicate database use rman duplicate work tspitr use rman instal configured bidirectional golden gate high data availability operational reporting create configure data server physical schemas logical schema model interface package troubleshoot issue oracle data integrator establishment replication setup apply cpupsu patch oracle database version 11203 utilized sqlloader data pump import load data table refresh schemausing exportimport create database tablespaces table index setting privilege user logins performance tune ie tune rac tune application share pool io distribution rollback segment buffer cache redo mechanism performance tuning use sql diagnostic addm sql adviser oracle utility like awr table partition create index organize table create locally manage tablespaces work oracle support different type ora600 error 24x7 production database support migration till handoff bau team selfmotivated responsible reliable team player set strong technical skill excellent analytical interpersonal communication skill enthusiasm learn new technology environnent oracle 12c exadata 11g rac10g rac sun solaris red hat linux windows oem grid control rman asm golden gate sqlloader oracle data guard stream toad sr oracle database administrator johnson control holland mi may 2012 january 2014 responsibility 24 x 7 production database administration support monitor ensure proactive problem recognition resolution database issue installation configuration maintenance oracle 10g rac11g rac standby database service guard high availability disaster recovery upgraded database oracle 8i 9i 10g oracle 10g 11g migrated database linux hpux window linux allocate system storage planning future storage requirement database oracle grid control installation configuration database monitoring oracle rman configuration backup disk tape implement backup recovery strategy perform disaster recovery drill backup recovery hot cold logical rman incremental backup plan implement backup recovery procedure schedule daily backup perform periodic recovery test performance monitoring tune oracle database unixlinux platform use database tune sql trace tkprof explain plan statspack awr addm partioned large table well performance manageability instal configures monitor oem 12c database design conceptual design logical database design physical database design capacity plan benchmarking data load use sqlloader external table write plsql procedure extraction transformation load etl data user role profile management enforcing password complexity secure database database security audit apply cpu patch create database object like table index view synonyms database link materialize view plsql function procedure package trigger etc refresh database production development test environment optimize sqls maximum performance explain plan daily databases health check monitor troubleshoot require create sr oracle support request follow oracle support run diagnostic script upload output file oracle support environment oracle 11g rac10g rac9i sun solaris hpux red hat linux windows oem 12c rman asm sqlloader oracle data guard stream golden gate toad oracle dba best buy minneapolis mn august 2011 may 2012 responsibility 24x7 production database application support manage multiple production development test database administer oracle 9i 10g 11g database setup oracle10g rac 11g rac setup standby databases disaster recovery reporting upgrade database 9i 10g 9i 10g database 11g clonedrefreshed database production database test development create database object like table index view materialize view synonyms add tablespaces data file database perform hot backup cold backup rman incremental backup maintain high database availability support nonstop business operation implement maintain database security create alter drop user require administer respective quota monitor status database log archive redo log etc object maintenance eg storage parameter rebuild index unix shell script automation backup cloningrefresh monitoring file system utilization status various oracle unix process etc performance monitoring tune oracle database unixlinux platform use database tune sql trace tkprof explain plan statspack awr addm partioned large table well performance manageability write plsql procedure extraction transformation load data setup monitoring oemgrid control work ticket assign perform certain task take export import add drop database user grant revoke role privilege database structure modification etc apply cpu patch create database object like table index view synonyms database link materialize view plsql function procedure package trigger etc environment oracle 11g rac10g rac9i8i hpux ibm aix redhat linux windows oem grid control rman asm sqlloader oracle data guard stream toad oracle dba hawaii medical service association honolulu hi november 2009 july 2011 responsibilities 24x7 production database application support manage multiple production development test database administer oracle 9i 10g 11g database allocate system storage planning future storage requirement database oracle data guard physicallogical configuration data replication disaster recovery oracle rman configuration backup disk tape implement backup recovery strategy understand disaster recovery scenario perform complete incomplete recovery use rman work database migration upgradations apply cpupsu interim patch performance improvement sga tune sql query tune user role profile management enforce password complexity secure database database audit configuration create session fail login attempt create database object like table view index synonyms procedure trigger etc refresh database production development test environment optimize sqls maximum performance use sql trace tkprof explain plan statspack awr addm daily databases health check monitor troubleshooting require raise sr oracle support request follow oracle support run diagnostic script upload output file sr support create database link instal configured oem agent multiple server implement standard monitoring alerting procedure work development team deploy application code patch build implementation work environment oracle 11g10g rac9i8i sun solaris red hat linux windows oem grid control rman asm sqlloader oracle data guard oracle dbadeveloper icici bank hyderabad andhra pradesh july 2007 november 2009 responsibility installation configuration maintenance oracle databases extensive experience unix shell script application development do application functionality automation use shell script responsible production user management issue network configuration issue convert flat file nonoracle file come mainframe system oracle database use sqlloader manage table space data file redo logs table segment write sql plsql cod database trigger package store procedure function manage user privilege role take hot backup databases monitor reorganize table spacestablesindexes take care performance relate issue tune memory well application tune create maintain role assign necessary privilege user accord business rule development environment optimization analyze sql query well performance load data use sqlloader coordination developer design complex query help user create database object enrol user environment oracle 10g9i8i73 sun solaris red hat linux windows oem grid control rman education btech information technology vellore institute technology vellore tamil nadu additional information technical skill database oracle 12c exadata 11g rac oracle 10g rac oracle 9i oracle 8i oracle 73 mysql sql server 2008 operating system sun solaris 8 9 10 hpux 10x 11x aix 51 52 53 61 redhat linux 4x 5x 6x window 9598ment2003xp languagestools unix shell script sqlplus plsql c c oemgrid controlcloud golden gate dbconsole rman awr asm addm statspack sqltrace explain plan tkprof data guard sqlloader oui dbca logical cold hot backup data pump sqlnet toad'),\n",
       " Row(resume_txt='salesmerchandising assistant salesmerchandising assistant salesmerchandising assistant krazy kat sportswear work experience salesmerchandising assistant krazy kat sportswear august 2018 present communicate account regard order approval create update line sheet individual account proficient plm utilize regular basis trend research keep track monthly expense report prepare assist market appointment assist order placement development stage production stage assistant architectural photographer bellfeather instrument new york ny april 2014 july 2018 take photograph building use architectural rendering adept use nikon d70 adobe photoshop cs5 extract element image organize image file computer network efficient retrieval internship database administrator ralph family company new york ny october 2016 june 2017 conduct sql server production database analysis perform troubleshoot lan problem client basic software provide customer assistance support database system query complaint manage dailyweekly report distribute management specialist sale associate macys orange county california us 2008 2012 provide customer service follow purchase suggest new merchandise improve company revenue increase sale run store event department merchandise department change display weekly train new employee education liberal art fullerton college fullerton ca market degree unity university addis ababa et skill database sql server sql ssrs rdbms additional information skill work knowledge experience private label business proficient adobe acrobat visual plm revo plm microsoft office excel outlook word power point assist photo shoot model mannequin expert rdbms sql server databased management backup tool cold hot backup rman importexport database installation configuration tool ssms sql query ssrs ssis'),\n",
       " Row(resume_txt='environmental protection specialist environmental protection specialist environmental protection specialist united state department agriculture alexandria va work experience environmental protection specialist united state department agriculture washington dc february 2018 present february 2018 present  responsible acceptance review proposal related environmental impact analyse documentation submit applicant agencyfinanced electric telecommunication water waste disposal proposal well provide technical guidance relevant environmental issue staff borrower consultant  prepares review analyzes proposal specific environmental impact analyse documentation prepare submit agency applicant borrower consultant proposal categorical exclusion environmental assessment environmental impact statement rural development utility program electric telecommunication water environmental program  responsible wep solar project acceptance environmental report environmental assessment review determine correct course action proposal  provide expert advice assistance program proposal relate impact analysis plan coordinate facilitate interagency public meeting  work secures comment input agency staff government tribal public stakeholder analyze comment receive prepares agencys response require correspondence  consults variety regulatory resource agency tribal official public high degree skill resolve negotiates outstanding issue complex sensitive ecological political nature prepares write comment reflect agency view issue  advises make recommendation agency approval official whether environmental review process documentation compliance agency environmental policy procedure  prepares maintain digital web base guidance environmental compliance tool agency staff applicants borrower environmental planner university puerto rico río piedras campus san juan pr march 2017 february 2018 march 2017 february 2018  research united state forest service determine value ecosystem service recreational characteristic urban forest puerto rico  give workshop created checklist community empowerment train poor community understood value natural resource maximize optimize resource available gis analyst database administrator caño martín peña land trust san juan pr june 2016 august 2017 june 2016 august 2017  assist gis department planning office database management cartography perform spatial location base problem solve  extensive contact array geographic source tool include topographic map plat map land use plan map  enter new map data use digitizer direct input coordinate information use principle cartography include coordinate system longitude latitude elevation topography map scale environmental planner para la naturaleza puerto rico conservation fund san juan pr august 2014 march 2015  perform environmental test select test objective determine statistical design strategy evaluate communicated result advise conservation fund board  assess emission greenhouse gas volatile organic compound risky air pollutant  assist creation implementation environmental documentation checklist review environmental publication teach research assistant university puerto rico río piedras campus san juan pr august 2012 may 2014 august 2012 may 2014  assist department professor perform teaching teachingrelated duty teach course develop teach material prepare give examination grade examination paper  assist coursework undergraduate graduate student course include urban geography introductory gi cartography cartography ii advance gis gi community regional planning statistic geodemographics urban plan method  assist geographic information system base project include computerized mapping remote sense gis analysis database design aerial photo interpretation integration gi cad environmental planner puerto rico department san juan pr august 2013 march 2014 august 2013 march 2014  gain experience environmental research method exposure monitor pollution measurement technical writing policy analysis environmental plan part environmental justice research project  involve preparation environmental checklist environmental impact statement environmental evaluation assessment permit material special plan urban design report master plan study  demonstrated expertise application gi theory data management analysis cartography model esri arcgis desktop environment gis analyst puerto rico political board san juan pr august 2011 may 2012 assist creation datasets databases included cadastre data puerto rico municipality include query munipalities barrios community  assist gis department planning office database management cartography perform spatial location base problem solve education msc geospatial science technology polytechnic university puerto rico san juan pr march 2017 august 2018 juris doctor law inter american university law school san juan pr july 2015 may 2017 master plan environmental urban economic planning university puerto rico san juan pr august 2011 may 2015 bs physical geography geospatial technology university puerto rico san juan pr august 2007 may 2011 skill database 8 year database design 8 year arcgis 10 year collection 10 year data analysis 10 year additional information skill program language python javascript software photoshop cs6 arcgis arcgis pro qgis idrisi geomatica technical skill data collection big data analysis geospatial analysis project development database design social skill americorps vista boy scout america')]"
      ]
     },
     "execution_count": 25,
     "metadata": {},
     "output_type": "execute_result"
    }
   ],
   "source": [
    "preprocessed_df.select('resume_txt').take(5)"
   ]
  },
  {
   "cell_type": "code",
   "execution_count": 26,
   "id": "69e522fe-d853-4cf6-aa94-08b56af3dda4",
   "metadata": {},
   "outputs": [],
   "source": [
    "# compress all partitions into 1 partition so that only 1 parquet file is output\n",
    "preprocessed_df.coalesce(1).write.parquet('parquet/preprocessed.parquet', mode='overwrite')"
   ]
  },
  {
   "cell_type": "markdown",
   "id": "dc1e14be-4532-41c1-861b-cadd52c268ce",
   "metadata": {},
   "source": [
    "### Check Output File"
   ]
  },
  {
   "cell_type": "code",
   "execution_count": 27,
   "id": "799cd432-be00-4403-b173-6c13005f2d9b",
   "metadata": {},
   "outputs": [],
   "source": [
    "test_df_parquet = pd.read_parquet('parquet/preprocessed.parquet/part-00000-7482d96e-f64c-4ec8-b132-9965fa89fca4-c000.snappy.parquet')"
   ]
  },
  {
   "cell_type": "code",
   "execution_count": 31,
   "id": "1077ea16-7b9b-4d6f-9bf9-2b636a127614",
   "metadata": {},
   "outputs": [
    {
     "data": {
      "text/plain": [
       "'sr oracle database administrator sr oracle database administrator sr oracle database administrator east windsor ct 7 year experience oracle database administrator enterprise level database administration management operation extensive experience instal design manage oracle 12c exadata 11g rac10g rac9i8i databases windows unix hpux ibm aix sun solaris installedconfigured oracle 11g10g real application cluster rac upgraded database oracle 8i 9i 10g oracle 10g 11g experience 247 production database support role extensive experience backup recovery hot cold logical rman incremental backup expert performance monitoring tune oracle database unixlinux platform use database tune sql trace tkprof explain plan statspack awr addm experience table index partition increase performance well storage management partition strategy large table partition large object improve query performance manageability identify bottleneck wait base analysis use oracle wait interface excellent experience database crossplatform migration expert installation configuration maintenance oracle standby active data guard monitoring databases set alert use oracle enterprise managergrid control experience database cloningrefresh tune patch good experience database design conceptual design logical database design physical database design set complete database security implementation troubleshoot oracle issue experience write shell script experience capacity planning benchmarking excellent sql plsql program debug skill cursor function store procedure package trigger etc experience data model logical physical database design excellent experience manage large database vldb experience replication use materialize view oracle stream golden gate expertise maintain database security use audit expertise load data flat file use external table sqlloader proven ability adapt demand schedule change priority excellent analytical interpersonal communication skill able work independently collaboratively team environment work experience sr oracle database administrator mcgraw hill east windsor nj february 2014 march 2015 responsibilities 24 x 7 production database administration support monitor ensure proactive problem recognition resolution database issue installation configuration maintenance oracle 12c 11g rac10g rac standby database service guard high availability disaster recovery database upgrades oracle 11g 12c 10g 11g database migration windows linux work emc migrate sannas storage set configure maintained oracle data guard primary standby databases ensure disaster recovery high availability data protection work migrate vldb 20tb size manage user privilege profile schemas use grid control oracle enterprise manager oem participate analysis design oracle exadata server infrastructure related project conduct analysis feasibility study development oracle exadata solution setup grid control monitoring exadata x2 instal oracle 11g exadata x2 provide performance tune optimization clone database use script well rman set backup recovery procedure use rman setup autosys job instal implement backup recovery procedure implement hot cold logical backup plan create duplicate database use rman duplicate work tspitr use rman instal configured bidirectional golden gate high data availability operational reporting create configure data server physical schemas logical schema model interface package troubleshoot issue oracle data integrator establishment replication setup apply cpupsu patch oracle database version 11203 utilized sqlloader data pump import load data table refresh schemausing exportimport create database tablespaces table index setting privilege user logins performance tune ie tune rac tune application share pool io distribution rollback segment buffer cache redo mechanism performance tuning use sql diagnostic addm sql adviser oracle utility like awr table partition create index organize table create locally manage tablespaces work oracle support different type ora600 error 24x7 production database support migration till handoff bau team selfmotivated responsible reliable team player set strong technical skill excellent analytical interpersonal communication skill enthusiasm learn new technology environnent oracle 12c exadata 11g rac10g rac sun solaris red hat linux windows oem grid control rman asm golden gate sqlloader oracle data guard stream toad sr oracle database administrator johnson control holland mi may 2012 january 2014 responsibility 24 x 7 production database administration support monitor ensure proactive problem recognition resolution database issue installation configuration maintenance oracle 10g rac11g rac standby database service guard high availability disaster recovery upgraded database oracle 8i 9i 10g oracle 10g 11g migrated database linux hpux window linux allocate system storage planning future storage requirement database oracle grid control installation configuration database monitoring oracle rman configuration backup disk tape implement backup recovery strategy perform disaster recovery drill backup recovery hot cold logical rman incremental backup plan implement backup recovery procedure schedule daily backup perform periodic recovery test performance monitoring tune oracle database unixlinux platform use database tune sql trace tkprof explain plan statspack awr addm partioned large table well performance manageability instal configures monitor oem 12c database design conceptual design logical database design physical database design capacity plan benchmarking data load use sqlloader external table write plsql procedure extraction transformation load etl data user role profile management enforcing password complexity secure database database security audit apply cpu patch create database object like table index view synonyms database link materialize view plsql function procedure package trigger etc refresh database production development test environment optimize sqls maximum performance explain plan daily databases health check monitor troubleshoot require create sr oracle support request follow oracle support run diagnostic script upload output file oracle support environment oracle 11g rac10g rac9i sun solaris hpux red hat linux windows oem 12c rman asm sqlloader oracle data guard stream golden gate toad oracle dba best buy minneapolis mn august 2011 may 2012 responsibility 24x7 production database application support manage multiple production development test database administer oracle 9i 10g 11g database setup oracle10g rac 11g rac setup standby databases disaster recovery reporting upgrade database 9i 10g 9i 10g database 11g clonedrefreshed database production database test development create database object like table index view materialize view synonyms add tablespaces data file database perform hot backup cold backup rman incremental backup maintain high database availability support nonstop business operation implement maintain database security create alter drop user require administer respective quota monitor status database log archive redo log etc object maintenance eg storage parameter rebuild index unix shell script automation backup cloningrefresh monitoring file system utilization status various oracle unix process etc performance monitoring tune oracle database unixlinux platform use database tune sql trace tkprof explain plan statspack awr addm partioned large table well performance manageability write plsql procedure extraction transformation load data setup monitoring oemgrid control work ticket assign perform certain task take export import add drop database user grant revoke role privilege database structure modification etc apply cpu patch create database object like table index view synonyms database link materialize view plsql function procedure package trigger etc environment oracle 11g rac10g rac9i8i hpux ibm aix redhat linux windows oem grid control rman asm sqlloader oracle data guard stream toad oracle dba hawaii medical service association honolulu hi november 2009 july 2011 responsibilities 24x7 production database application support manage multiple production development test database administer oracle 9i 10g 11g database allocate system storage planning future storage requirement database oracle data guard physicallogical configuration data replication disaster recovery oracle rman configuration backup disk tape implement backup recovery strategy understand disaster recovery scenario perform complete incomplete recovery use rman work database migration upgradations apply cpupsu interim patch performance improvement sga tune sql query tune user role profile management enforce password complexity secure database database audit configuration create session fail login attempt create database object like table view index synonyms procedure trigger etc refresh database production development test environment optimize sqls maximum performance use sql trace tkprof explain plan statspack awr addm daily databases health check monitor troubleshooting require raise sr oracle support request follow oracle support run diagnostic script upload output file sr support create database link instal configured oem agent multiple server implement standard monitoring alerting procedure work development team deploy application code patch build implementation work environment oracle 11g10g rac9i8i sun solaris red hat linux windows oem grid control rman asm sqlloader oracle data guard oracle dbadeveloper icici bank hyderabad andhra pradesh july 2007 november 2009 responsibility installation configuration maintenance oracle databases extensive experience unix shell script application development do application functionality automation use shell script responsible production user management issue network configuration issue convert flat file nonoracle file come mainframe system oracle database use sqlloader manage table space data file redo logs table segment write sql plsql cod database trigger package store procedure function manage user privilege role take hot backup databases monitor reorganize table spacestablesindexes take care performance relate issue tune memory well application tune create maintain role assign necessary privilege user accord business rule development environment optimization analyze sql query well performance load data use sqlloader coordination developer design complex query help user create database object enrol user environment oracle 10g9i8i73 sun solaris red hat linux windows oem grid control rman education btech information technology vellore institute technology vellore tamil nadu additional information technical skill database oracle 12c exadata 11g rac oracle 10g rac oracle 9i oracle 8i oracle 73 mysql sql server 2008 operating system sun solaris 8 9 10 hpux 10x 11x aix 51 52 53 61 redhat linux 4x 5x 6x window 9598ment2003xp languagestools unix shell script sqlplus plsql c c oemgrid controlcloud golden gate dbconsole rman awr asm addm statspack sqltrace explain plan tkprof data guard sqlloader oui dbca logical cold hot backup data pump sqlnet toad'"
      ]
     },
     "execution_count": 31,
     "metadata": {},
     "output_type": "execute_result"
    }
   ],
   "source": [
    "test_df_parquet['resume_txt'][2]"
   ]
  },
  {
   "cell_type": "code",
   "execution_count": 33,
   "id": "1e281422-f244-4e10-936d-ed0b63d1064a",
   "metadata": {},
   "outputs": [
    {
     "data": {
      "text/plain": [
       "(29783, 11)"
      ]
     },
     "execution_count": 33,
     "metadata": {},
     "output_type": "execute_result"
    }
   ],
   "source": [
    "test_df_parquet.shape # should have 29783 rows"
   ]
  },
  {
   "cell_type": "code",
   "execution_count": null,
   "id": "92a9c008-4d0f-4620-bb5f-f1a50b48c3d7",
   "metadata": {},
   "outputs": [],
   "source": []
  },
  {
   "cell_type": "code",
   "execution_count": null,
   "id": "aeec24f5-2122-490e-ae95-24cc95761405",
   "metadata": {},
   "outputs": [],
   "source": [
    "import pandas as pd \n",
    "\n",
    "def read_file(identifier):\n",
    "    with open(f'data\\\\{identifier}.txt') as corpus_reader:\n",
    "        resume = corpus_reader.read()\n",
    "        \n",
    "    with open(f'data\\\\{identifier}.lab') as title_reader:\n",
    "        job_title = title_reader.read()\n",
    "        \n",
    "    return resume, job_title\n",
    "\n",
    "resume_corpus = []\n",
    "job_titles = []\n",
    "\n",
    "for i in range(1, 29783 + 1):\n",
    "    resume, job_title = read_file(f'{i:0>5}')\n",
    "    \n",
    "    resume_corpus.append(resume)\n",
    "    job_titles.append(job_title)\n",
    "    \n",
    "df = pd.DataFrame({ 'resume_txt': resume_corpus, 'job_title': job_titles })"
   ]
  },
  {
   "cell_type": "code",
   "execution_count": null,
   "id": "c052b880-4399-4441-864b-7a18031a2785",
   "metadata": {},
   "outputs": [],
   "source": [
    "df.to_parquet('read_file.parquet', index=False)"
   ]
  }
 ],
 "metadata": {
  "kernelspec": {
   "display_name": "Python 3 (ipykernel)",
   "language": "python",
   "name": "python3"
  },
  "language_info": {
   "codemirror_mode": {
    "name": "ipython",
    "version": 3
   },
   "file_extension": ".py",
   "mimetype": "text/x-python",
   "name": "python",
   "nbconvert_exporter": "python",
   "pygments_lexer": "ipython3",
   "version": "3.10.9"
  }
 },
 "nbformat": 4,
 "nbformat_minor": 5
}
